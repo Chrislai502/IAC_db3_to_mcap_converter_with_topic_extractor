{
 "cells": [
  {
   "cell_type": "code",
   "execution_count": null,
   "metadata": {},
   "outputs": [],
   "source": [
    "import xml.etree.ElementTree as ET\n",
    "\n",
    "class URDFParser:\n",
    "    def __init__(self, file_name):\n",
    "        self.tree = ET.parse(file_name)\n",
    "        self.root = self.tree.getroot()\n",
    "\n",
    "    def update_joint(self, joint_name, new_xyz=None, new_rpy=None):\n",
    "        for joint in self.root.findall('joint'):\n",
    "            if joint.get('name') == joint_name:\n",
    "                origin = joint.find('origin')\n",
    "                if new_xyz:\n",
    "                    origin.set('xyz', new_xyz)\n",
    "                if new_rpy:\n",
    "                    origin.set('rpy', new_rpy)\n",
    "                return True\n",
    "        return False\n",
    "\n",
    "    def save_urdf(self, file_name):\n",
    "        self.tree.write(file_name, xml_declaration=True, encoding='utf-8')\n",
    "\n",
    "# Example usage\n",
    "urdf_file = 'path_to_your_urdf_file.urdf'\n",
    "parser = URDFParser(urdf_file)\n",
    "\n",
    "# Update a joint (provide joint name, new position and new orientation)\n",
    "joint_name = 'model_joint'  # example joint name\n",
    "new_xyz = '1.8 0.0 -0.31'   # new position (x, y, z)\n",
    "new_rpy = '1.5708 0.0 1.5708'  # new orientation (roll, pitch, yaw)\n",
    "\n",
    "if parser.update_joint(joint_name, new_xyz, new_rpy):\n",
    "    print(f\"Joint '{joint_name}' updated successfully.\")\n",
    "    parser.save_urdf('updated_urdf.urdf')  # Save the modified URDF to a new file\n",
    "else:\n",
    "    print(f\"Joint '{joint_name}' not found.\")"
   ]
  }
 ],
 "metadata": {
  "language_info": {
   "name": "python"
  }
 },
 "nbformat": 4,
 "nbformat_minor": 2
}
